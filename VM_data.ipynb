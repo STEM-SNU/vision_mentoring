{
 "cells": [
  {
   "cell_type": "code",
   "execution_count": null,
   "metadata": {
    "collapsed": true
   },
   "outputs": [],
   "source": [
    "import pandas as pd"
   ]
  },
  {
   "cell_type": "code",
   "execution_count": null,
   "metadata": {
    "collapsed": false
   },
   "outputs": [],
   "source": [
    "schools = pd.read_json('https://stem-mentoring.firebaseio.com/school.json')\n",
    "cities = pd.read_json('https://stem-mentoring.firebaseio.com/cities.json')\n",
    "students = pd.read_json('https://stem-mentoring.firebaseio.com/students.json').T\n",
    "confirm = pd.read_json('https://stem-mentoring.firebaseio.com/confirm.json').T"
   ]
  },
  {
   "cell_type": "code",
   "execution_count": null,
   "metadata": {
    "collapsed": false
   },
   "outputs": [],
   "source": [
    "students['school_id'] = students.school.map(lambda x:x['id'])\n",
    "students['school_name'] = students.school.map(lambda x:x['label'])\n",
    "students['city_id'] = students.school.map(lambda x:x['city'])"
   ]
  },
  {
   "cell_type": "code",
   "execution_count": null,
   "metadata": {
    "collapsed": true
   },
   "outputs": [],
   "source": [
    "students.columns"
   ]
  },
  {
   "cell_type": "markdown",
   "metadata": {
    "collapsed": false
   },
   "source": [
    "# The content below is real code that generates list of participants."
   ]
  },
  {
   "cell_type": "code",
   "execution_count": null,
   "metadata": {
    "collapsed": false
   },
   "outputs": [],
   "source": [
    "students = pd.read_json('https://stem-mentoring.firebaseio.com/students.json').T\n",
    "students['school_name'] = students.school.map(lambda x:x['value'])\n",
    "register_list = students[['school_name', 'order', 'name', 'grade', 'phone', 'guardian_name', 'guardian_phone', 'interests', 'motivation', 'timestamp']].sort_values(['school_name', 'order'])\n",
    "register_list.to_excel('명단.xlsx', header=['학교', '순번', '이름', '학년', '연락처', '보호자', '보호자 연락처', '관심 학과', '동기', '접수 시간'], index=False)"
   ]
  },
  {
   "cell_type": "markdown",
   "metadata": {},
   "source": [
    "## 학교 목록 csv 파일로부터 json을 생성합니다. 매년 멘토링 전 한 번만 하세요!"
   ]
  },
  {
   "cell_type": "code",
   "execution_count": 36,
   "metadata": {
    "collapsed": false
   },
   "outputs": [
    {
     "name": "stdout",
     "output_type": "stream",
     "text": [
      "경신고등학교 (2): 경신고등학교 (종로구), 경신고등학교 (수성구), \n",
      "대신고등학교 (2): 대신고등학교 (종로구), 대신고등학교 (여주시), \n",
      "오산고등학교 (2): 오산고등학교 (용산구), 오산고등학교 (오산시), \n",
      "경일고등학교 (3): 경일고등학교 (성동구), 경일고등학교 (강서구), 경일고등학교 (안동시), \n",
      "성수고등학교 (2): 성수고등학교 (성동구), 성수고등학교 (춘천시), \n",
      "광남고등학교 (3): 광남고등학교 (광진구), 광남고등학교 (광주시), 광남고등학교 (나주시), \n",
      "광양고등학교 (2): 광양고등학교 (광진구), 광양고등학교 (광양시), \n",
      "대원고등학교 (2): 대원고등학교 (광진구), 대원고등학교 (달성군), \n",
      "계성고등학교 (2): 계성고등학교 (성북구), 계성고등학교 (서구), \n",
      "용문고등학교 (2): 용문고등학교 (성북구), 용문고등학교 (양평군), \n",
      "혜화여자고등학교 (2): 혜화여자고등학교 (강북구), 혜화여자고등학교 (동래구), \n",
      "대진고등학교 (3): 대진고등학교 (노원구), 대진고등학교 (달서구), 대진고등학교 (고성군), \n",
      "영신여자고등학교 (2): 영신여자고등학교 (노원구), 영신여자고등학교 (수원시), \n",
      "청원고등학교 (2): 청원고등학교 (노원구), 청원고등학교 (청주시), \n",
      "대성고등학교 (3): 대성고등학교 (은평구), 대성고등학교 (중구), 대성고등학교 (원주시), \n",
      "신도고등학교 (2): 신도고등학교 (은평구), 신도고등학교 (해운대구), \n",
      "인창고등학교 (2): 인창고등학교 (서대문구), 인창고등학교 (구리시), \n",
      "광성고등학교 (2): 광성고등학교 (마포구), 광성고등학교 (중구), \n",
      "홍익디자인고등학교 (2): 홍익디자인고등학교 (마포구), 홍익디자인고등학교 (화성시), \n",
      "광영고등학교 (2): 광영고등학교 (양천구), 광영고등학교 (광양시), \n",
      "백암고등학교 (2): 백암고등학교 (양천구), 백암고등학교 (용인시), \n",
      "양정고등학교 (2): 양정고등학교 (양천구), 양정고등학교 (부산진구), \n",
      "명덕고등학교 (2): 명덕고등학교 (강서구), 명덕고등학교 (함안군), \n",
      "영일고등학교 (2): 영일고등학교 (강서구), 영일고등학교 (포항시), \n",
      "한광고등학교 (2): 한광고등학교 (강서구), 한광고등학교 (평택시), \n",
      "우신고등학교 (2): 우신고등학교 (구로구), 우신고등학교 (남구), \n",
      "금천고등학교 (3): 금천고등학교 (금천구), 금천고등학교 (청주시), 금천고등학교 (청도군), \n",
      "대영고등학교 (2): 대영고등학교 (영등포구), 대영고등학교 (영주시), \n",
      "영신고등학교 (2): 영신고등학교 (영등포구), 영신고등학교 (동구), \n",
      "성남고등학교 (2): 성남고등학교 (동작구), 성남고등학교 (세종시), \n",
      "구암고등학교 (2): 구암고등학교 (관악구), 구암고등학교 (북구), \n",
      "세화고등학교 (3): 세화고등학교 (서초구), 세화고등학교 (포항시), 세화고등학교 (제주시), \n",
      "영동고등학교 (3): 영동고등학교 (강남구), 영동고등학교 (영동군), 영동고등학교 (영천시), \n",
      "중산고등학교 (2): 중산고등학교 (강남구), 중산고등학교 (고양시), \n",
      "청담고등학교 (2): 청담고등학교 (강남구), 청담고등학교 (평택시), \n",
      "현대고등학교 (2): 현대고등학교 (강남구), 현대고등학교 (동구), \n",
      "문현고등학교 (2): 문현고등학교 (송파구), 문현고등학교 (동구), \n",
      "보성고등학교 (2): 보성고등학교 (송파구), 보성고등학교 (보성군), \n",
      "강동고등학교 (2): 강동고등학교 (강동구), 강동고등학교 (동구), \n",
      "광문고등학교 (2): 광문고등학교 (강동구), 광문고등학교 (광명시), \n",
      "상일여자고등학교 (2): 상일여자고등학교 (강동구), 상일여자고등학교 (서구), \n",
      "성덕고등학교 (2): 성덕고등학교 (강동구), 성덕고등학교 (광산구), \n",
      "한영고등학교 (2): 한영고등학교 (강동구), 한영고등학교 (여수시), \n",
      "금성고등학교 (3): 금성고등학교 (동구), 금성고등학교 (나주시), 금성고등학교 (의성군), \n",
      "광명고등학교 (2): 광명고등학교 (영도구), 광명고등학교 (광명시), \n",
      "경원고등학교 (2): 경원고등학교 (부산진구), 경원고등학교 (달서구), \n",
      "용인고등학교 (2): 용인고등학교 (동래구), 용인고등학교 (용인시), \n",
      "성지고등학교 (2): 성지고등학교 (남구), 성지고등학교 (용인시), \n",
      "금곡고등학교 (2): 금곡고등학교 (북구), 금곡고등학교 (남양주시), \n",
      "부흥고등학교 (2): 부흥고등학교 (해운대구), 부흥고등학교 (안양시), \n",
      "대동고등학교 (2): 대동고등학교 (사하구), 대동고등학교 (포항시), \n",
      "삼성여자고등학교 (2): 삼성여자고등학교 (사하구), 삼성여자고등학교 (서귀포시), \n",
      "지산고등학교 (2): 지산고등학교 (금정구), 지산고등학교 (파주시), \n",
      "신정고등학교 (2): 신정고등학교 (기장군), 신정고등학교 (남구), \n",
      "경상고등학교 (2): 경상고등학교 (북구), 경상고등학교 (창원시), \n",
      "운암고등학교 (2): 운암고등학교 (북구), 운암고등학교 (오산시), \n",
      "수성고등학교 (2): 수성고등학교 (수성구), 수성고등학교 (수원시), \n",
      "경화여자고등학교 (2): 경화여자고등학교 (달서구), 경화여자고등학교 (광주시), \n",
      "대곡고등학교 (2): 대곡고등학교 (달서구), 대곡고등학교 (진주시), \n",
      "성산고등학교 (2): 성산고등학교 (달서구), 성산고등학교 (서귀포시), \n",
      "화원고등학교 (2): 화원고등학교 (달성군), 화원고등학교 (해남군), \n",
      "석정여자고등학교 (2): 석정여자고등학교 (남동구), 석정여자고등학교 (영월군), \n",
      "인제고등학교 (2): 인제고등학교 (남동구), 인제고등학교 (인제군), \n",
      "삼산고등학교 (2): 삼산고등학교 (부평구), 삼산고등학교 (남구), \n",
      "가좌고등학교 (2): 가좌고등학교 (서구), 가좌고등학교 (고양시), \n",
      "백석고등학교 (2): 백석고등학교 (서구), 백석고등학교 (고양시), \n",
      "광주고등학교 (2): 광주고등학교 (동구), 광주고등학교 (광주시), \n",
      "광덕고등학교 (2): 광덕고등학교 (서구), 광덕고등학교 (안산시), \n",
      "대성여자고등학교 (2): 대성여자고등학교 (남구), 대성여자고등학교 (동구), \n",
      "동명고등학교 (2): 동명고등학교 (광산구), 동명고등학교 (칠곡군), \n",
      "보문고등학교 (2): 보문고등학교 (광산구), 보문고등학교 (동구), \n",
      "서일고등학교 (2): 서일고등학교 (서구), 서일고등학교 (서산시), \n",
      "유성여자고등학교 (2): 유성여자고등학교 (유성구), 유성여자고등학교 (포항시), \n",
      "세인고등학교 (2): 세인고등학교 (울주군), 세인고등학교 (완주군), \n",
      "세종고등학교 (3): 세종고등학교 (세종시), 세종고등학교 (여주시), 세종고등학교 (밀양시), \n",
      "양지고등학교 (2): 양지고등학교 (세종시), 양지고등학교 (안산시), \n",
      "한솔고등학교 (2): 한솔고등학교 (세종시), 한솔고등학교 (성남시), \n",
      "동원고등학교 (2): 동원고등학교 (수원시), 동원고등학교 (통영시), \n",
      "영덕고등학교 (2): 영덕고등학교 (수원시), 영덕고등학교 (영덕군), \n",
      "성일고등학교 (2): 성일고등학교 (성남시), 성일고등학교 (익산시), \n",
      "덕산고등학교 (3): 덕산고등학교 (부천시), 덕산고등학교 (예산군), 덕산고등학교 (산청군), \n",
      "상동고등학교 (2): 상동고등학교 (부천시), 상동고등학교 (영월군), \n",
      "경안고등학교 (2): 경안고등학교 (안산시), 경안고등학교 (안동시), \n",
      "서원고등학교 (2): 서원고등학교 (용인시), 서원고등학교 (청주시), \n",
      "서천고등학교 (2): 서천고등학교 (용인시), 서천고등학교 (서천군), \n",
      "홍천고등학교 (2): 홍천고등학교 (용인시), 홍천고등학교 (홍천군), \n",
      "흥덕고등학교 (2): 흥덕고등학교 (용인시), 흥덕고등학교 (청주시), \n",
      "예당고등학교 (2): 예당고등학교 (화성시), 예당고등학교 (보성군), \n",
      "풍산고등학교 (2): 풍산고등학교 (하남시), 풍산고등학교 (안동시), \n",
      "안성고등학교 (2): 안성고등학교 (안성시), 안성고등학교 (무주군), \n",
      "대화고등학교 (2): 대화고등학교 (고양시), 대화고등학교 (평창군), \n",
      "율곡고등학교 (2): 율곡고등학교 (파주시), 율곡고등학교 (김천시), \n",
      "한빛고등학교 (2): 한빛고등학교 (파주시), 한빛고등학교 (담양군), \n",
      "설악고등학교 (2): 설악고등학교 (가평군), 설악고등학교 (속초시), \n",
      "상지여자고등학교 (2): 상지여자고등학교 (원주시), 상지여자고등학교 (상주시), \n",
      "고성고등학교 (2): 고성고등학교 (고성군), 고성고등학교 (고성군), \n",
      "세명고등학교 (2): 세명고등학교 (제천시), 세명고등학교 (포항시), \n",
      "학산고등학교 (2): 학산고등학교 (영동군), 학산고등학교 (정읍시), \n",
      "웅천고등학교 (2): 웅천고등학교 (보령시), 웅천고등학교 (창원시), \n",
      "용남고등학교 (2): 용남고등학교 (계룡시), 용남고등학교 (사천시), \n",
      "영산고등학교 (2): 영산고등학교 (나주시), 영산고등학교 (창녕군), \n",
      "영광고등학교 (2): 영광고등학교 (영광군), 영광고등학교 (영주시), \n",
      "한일여자고등학교 (2): 한일여자고등학교 (김천시), 한일여자고등학교 (창원시), \n",
      "영주고등학교 (2): 영주고등학교 (영주시), 영주고등학교 (제주시), \n"
     ]
    }
   ],
   "source": [
    "import csv\n",
    "from collections import defaultdict\n",
    "import json\n",
    "\n",
    "with open('cities.json', 'r') as cityfile:\n",
    "    cities = json.loads(cityfile.read())\n",
    "\n",
    "code_ref = defaultdict(dict)\n",
    "\n",
    "for city in cities:\n",
    "    code_ref[city['province']][city['city']] = city['city_id']\n",
    "\n",
    "keys = ('시도','행정구','학교명','도로명주소')\n",
    "\n",
    "schools = []\n",
    "name_collection = defaultdict(list)\n",
    "\n",
    "\n",
    "with open('list.csv', 'r') as csvfile:\n",
    "    reader = csv.reader(csvfile, delimiter=',')\n",
    "    title = next(reader)\n",
    "    PROV = title.index(keys[0])\n",
    "    CITY = title.index(keys[1])\n",
    "    NAME = title.index(keys[2])\n",
    "    ADDR = title.index(keys[3])\n",
    "\n",
    "    for row in reader:\n",
    "        schools.append({\n",
    "            'city_id': code_ref[row[PROV]][row[CITY]],\n",
    "            'count': 0,\n",
    "            'name': row[NAME],\n",
    "            'id': reader.line_num - 2\n",
    "        })\n",
    "        name_collection[row[NAME]].append(len(schools)-1)\n",
    "\n",
    "for k, v in name_collection.items():\n",
    "    if len(v) > 1:\n",
    "        print(k, '(%d)' % len(v), end=': ')\n",
    "        for i in v:\n",
    "            schools[i]['name'] += ' (%s)' % (cities[schools[i]['city_id']]['city'])\n",
    "            print (schools[i]['name'], end=', ')\n",
    "        print()\n",
    "\n",
    "with open('schools.json', 'w') as schoolfile:\n",
    "    json.dump(schools, schoolfile, ensure_ascii=False, indent=2)"
   ]
  },
  {
   "cell_type": "code",
   "execution_count": null,
   "metadata": {
    "collapsed": true
   },
   "outputs": [],
   "source": [
    "#recover city list\n",
    "\n",
    "import csv\n",
    "from collections import defaultdict\n",
    "import json\n",
    "\n",
    "keys = ('시도','행정구','학교명')\n",
    "\n",
    "\n",
    "cities = []\n",
    "\n",
    "with open('list.csv', 'r') as csvfile:\n",
    "    reader = csv.reader(csvfile, delimiter=',')\n",
    "    title = next(reader)\n",
    "    PROV = title.index(keys[0])\n",
    "    CITY = title.index(keys[1])\n",
    "    for row in reader:\n",
    "        district = '%s/%s' % (row[PROV], row[CITY])\n",
    "        if district not in cities:\n",
    "            cities.append(district)\n",
    "for i in range(len(cities)):\n",
    "    info = cities[i].split('/')\n",
    "    cities[i] = {\n",
    "        'city_id': i,\n",
    "        'city': info[1],\n",
    "        'province': info[0]\n",
    "    }\n",
    "\n",
    "with open('cities.json', 'w') as cityfile:\n",
    "    json.dump(cities, cityfile, ensure_ascii=False, indent=2)\n",
    "    "
   ]
  },
  {
   "cell_type": "code",
   "execution_count": null,
   "metadata": {
    "collapsed": false
   },
   "outputs": [],
   "source": []
  }
 ],
 "metadata": {
  "kernelspec": {
   "display_name": "Python 3",
   "language": "python",
   "name": "python3"
  },
  "language_info": {
   "codemirror_mode": {
    "name": "ipython",
    "version": 3
   },
   "file_extension": ".py",
   "mimetype": "text/x-python",
   "name": "python",
   "nbconvert_exporter": "python",
   "pygments_lexer": "ipython3",
   "version": "3.6.0"
  }
 },
 "nbformat": 4,
 "nbformat_minor": 0
}
